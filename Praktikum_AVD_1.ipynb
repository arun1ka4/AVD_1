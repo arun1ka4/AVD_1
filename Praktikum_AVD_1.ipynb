{
  "nbformat": 4,
  "nbformat_minor": 0,
  "metadata": {
    "colab": {
      "provenance": []
    },
    "kernelspec": {
      "name": "python3",
      "display_name": "Python 3"
    },
    "language_info": {
      "name": "python"
    }
  },
  "cells": [
    {
      "cell_type": "markdown",
      "source": [
        "Link Dataset: https://www.kaggle.com/datasets/adilshamim8/sleep-cycle-and-productivity\n"
      ],
      "metadata": {
        "id": "W-2jRMlaj3bs"
      }
    },
    {
      "cell_type": "markdown",
      "source": [
        "# **Sleep Cycle & Productivity: How Exercise, Cafeine, and Screen Time Affect Sleep Quality**"
      ],
      "metadata": {
        "id": "xXiI5O_9j_O9"
      }
    },
    {
      "cell_type": "markdown",
      "source": [
        "## BUSINESS UNDERSTANDING"
      ],
      "metadata": {
        "id": "D3JoLj8adEPX"
      }
    },
    {
      "cell_type": "markdown",
      "source": [
        "## Business Objective"
      ],
      "metadata": {
        "id": "Dj02EFuuddyA"
      }
    },
    {
      "cell_type": "markdown",
      "source": [
        "Tujuan proyek ini adalah untuk mengidentifikasi hubungan antara pola tidur dan produktivitas. Hasil dari analisis ini dapat digunakan untuk memberikan rekomendasi waktu kerja yang cukup dengan memperhatikan waktu tidur dalam meningkatkan kesejahteraan suatu individu."
      ],
      "metadata": {
        "id": "ltdcmGztl1c9"
      }
    },
    {
      "cell_type": "markdown",
      "source": [
        "## Assess Situation"
      ],
      "metadata": {
        "id": "z45ep6GudjPH"
      }
    },
    {
      "cell_type": "markdown",
      "source": [
        "Situasi bisnis yang mendasari analisis ini adalah meningkatnya kesadaran akan pentingnya kualitas tidur dalam meningkatkan produktivitas individu. Tekanan kerja, pola hidup yang tidak sehat, serta kebiasaan tidur yang buruk dapat memengaruhi kinerja dari individu tersebut di suatu organisasi."
      ],
      "metadata": {
        "id": "44eYOjAjoBCk"
      }
    },
    {
      "cell_type": "markdown",
      "source": [
        "## Data Mining Goals"
      ],
      "metadata": {
        "id": "Dl1PUE6vdojx"
      }
    },
    {
      "cell_type": "markdown",
      "source": [
        "Mengidentifikasi hubungan antara kebiasaan tidur dan produktivitas dengan menganalisis beberapa faktor, seperti durasi tidur dan kualitas tidur. Dengan memahami polanya, diharapkan dapat mencari strategi dalam meningkatkan keseimbangan kerja dan istirahat."
      ],
      "metadata": {
        "id": "uRR_X5_Dtofj"
      }
    },
    {
      "cell_type": "markdown",
      "source": [
        "## Project Plan"
      ],
      "metadata": {
        "id": "-WGWNXtgds7x"
      }
    },
    {
      "cell_type": "markdown",
      "source": [
        "\n",
        "\n",
        "1.   Mencari dan memahami isi dataset\n",
        "2.   Mengatasi data yang nilainya hilang, tidak valid, atau anomali di dataset tersebut\n",
        "3. Visualisasikan data untuk mengidentifikasi pola\n",
        "4. Memberikan saran atau rekomendasi kepada perusahaan mengenai strategi dari hasil analisis tersebut\n",
        "5.Menerapkannya ke perusahaan dan individu serta memantau dalam jangka waktu tertentu untuk mengukur seberapa berhasil strategi tersebut\n",
        "\n"
      ],
      "metadata": {
        "id": "KbiE2b90xQSW"
      }
    }
  ]
}